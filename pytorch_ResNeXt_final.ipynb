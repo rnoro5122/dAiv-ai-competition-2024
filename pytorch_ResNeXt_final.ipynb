{
 "cells": [
  {
   "cell_type": "markdown",
   "id": "df559d6ecf587ef4",
   "metadata": {
    "id": "df559d6ecf587ef4"
   },
   "source": [
    "# dAiv AI_Competition[2024]_ResNeXt101 for PyTorch"
   ]
  },
  {
   "cell_type": "markdown",
   "id": "e6487069a22b443e",
   "metadata": {
    "id": "e6487069a22b443e"
   },
   "source": [
    "## Import Libraries"
   ]
  },
  {
   "cell_type": "code",
   "execution_count": 51,
   "id": "initial_id",
   "metadata": {
    "id": "initial_id",
    "ExecuteTime": {
     "end_time": "2024-09-05T04:19:27.512436Z",
     "start_time": "2024-09-05T04:19:27.508952Z"
    }
   },
   "outputs": [],
   "source": [
    "from os import path, mkdir, makedirs\n",
    "import signal\n",
    "\n",
    "import torch\n",
    "from torch import nn\n",
    "from torch import optim\n",
    "from torch.utils.data import DataLoader, WeightedRandomSampler\n",
    "from torch.cuda.amp import GradScaler\n",
    "\n",
    "import torchvision\n",
    "from torchvision import transforms\n",
    "\n",
    "import numpy as np\n",
    "import pandas as pd\n",
    "from tqdm.notebook import tqdm\n",
    "import matplotlib.pyplot as plt"
   ]
  },
  {
   "cell_type": "markdown",
   "id": "88444867b0b14178",
   "metadata": {
    "id": "88444867b0b14178"
   },
   "source": [
    "### Check GPU Availability"
   ]
  },
  {
   "cell_type": "code",
   "execution_count": null,
   "id": "4ae5ca44145e20a0",
   "metadata": {
    "colab": {
     "base_uri": "https://localhost:8080/"
    },
    "id": "4ae5ca44145e20a0",
    "outputId": "41b911c2-5d65-4645-bd2b-20d1b51278f6"
   },
   "outputs": [],
   "source": [
    "!nvidia-smi"
   ]
  },
  {
   "cell_type": "code",
   "execution_count": 53,
   "id": "c67d9cee",
   "metadata": {
    "ExecuteTime": {
     "end_time": "2024-09-05T04:19:28.304966Z",
     "start_time": "2024-09-05T04:19:28.299544Z"
    }
   },
   "outputs": [
    {
     "name": "stdout",
     "output_type": "stream",
     "text": [
      "INFO: Using device - cpu\n",
      "Number of devices currently in use - 0\n"
     ]
    }
   ],
   "source": [
    "# ** 모델 훈련하기 전에 CUDA DEVICES 선택하기 **\n",
    "import os\n",
    "\n",
    "# CUDA_VISIBLE_DEVICES를 설정하여 사용할 GPU를 지정\n",
    "os.environ[\"CUDA_VISIBLE_DEVICES\"] = \"7\"\n",
    "\n",
    "# 장치를 CUDA로 설정(위에 지정된 GPU 사용)\n",
    "device = torch.device(\"cuda\" if torch.cuda.is_available() else \"cpu\")\n",
    "\n",
    "print(\"INFO: Using device -\", device)\n",
    "print(\"Number of devices currently in use -\", torch.cuda.device_count())"
   ]
  },
  {
   "cell_type": "markdown",
   "id": "43f33be18440cabc",
   "metadata": {
    "id": "43f33be18440cabc"
   },
   "source": [
    "## Load DataSets"
   ]
  },
  {
   "cell_type": "code",
   "execution_count": 54,
   "id": "4fd24d506fba9ca1",
   "metadata": {
    "id": "4fd24d506fba9ca1",
    "ExecuteTime": {
     "end_time": "2024-09-05T04:19:28.445963Z",
     "start_time": "2024-09-05T04:19:28.439413Z"
    }
   },
   "outputs": [],
   "source": [
    "from typing import Callable, Optional\n",
    "from torchvision.datasets.utils import download_and_extract_archive\n",
    "\n",
    "torchvision.datasets.utils.tqdm = tqdm\n",
    "\n",
    "\n",
    "class FoodImageDataset(torchvision.datasets.ImageFolder):\n",
    "    download_url = \"https://daiv-cnu.duckdns.org/contest/ai_competition[2024]_basic/dataset/datasets.zip\"\n",
    "\n",
    "    def __init__(self, root: str, force_download: bool = True, train: bool = True, valid: bool = False, transform: Optional[Callable] = None, target_transform: Optional[Callable] = None):\n",
    "        self.download(root, force=force_download)\n",
    "\n",
    "        if train:\n",
    "            if valid:\n",
    "                root = path.join(root, \"valid\")\n",
    "            else:\n",
    "                root = path.join(root, \"train\")\n",
    "        else:\n",
    "            root = path.join(root, \"test\")\n",
    "\n",
    "        super().__init__(root=root, transform=transform, target_transform=target_transform)\n",
    "\n",
    "    @classmethod\n",
    "    def download(cls, root: str, force: bool = False):\n",
    "        if force or not path.isfile(path.join(root, \"datasets.zip\")):\n",
    "            download_and_extract_archive(cls.download_url, download_root=root, extract_root=root, filename=\"datasets.zip\")\n",
    "            print(\"INFO: Dataset archive downloaded and extracted.\")\n",
    "        else:\n",
    "            print(\"INFO: Dataset archive found in the root directory. Skipping download.\")"
   ]
  },
  {
   "cell_type": "code",
   "execution_count": 55,
   "id": "50f6181b6f7f12a2",
   "metadata": {
    "id": "50f6181b6f7f12a2",
    "ExecuteTime": {
     "end_time": "2024-09-05T04:19:28.731140Z",
     "start_time": "2024-09-05T04:19:28.727200Z"
    }
   },
   "outputs": [],
   "source": [
    "IMG_SIZE = (512, 512)\n",
    "IMG_NORM = dict(\n",
    "    mean=[0.485, 0.456, 0.406], std=[0.229, 0.224, 0.225]\n",
    ")\n",
    "\n",
    "resizer = transforms.Compose([\n",
    "    transforms.Resize(IMG_SIZE),  # 이미지 리사이즈\n",
    "    transforms.ToTensor(),  # 이미지를 텐서로 변환\n",
    "    transforms.Normalize(**IMG_NORM)  # 정규화\n",
    "])"
   ]
  },
  {
   "cell_type": "code",
   "execution_count": 56,
   "id": "327d472ec0525e33",
   "metadata": {
    "colab": {
     "base_uri": "https://localhost:8080/",
     "height": 158,
     "referenced_widgets": [
      "a9d58710474949c0a1f12ad86b99018b",
      "d76bf07ee3494c2b90bf1b2755a4b6f4",
      "2ac622a388d44ed8ab55f221bb336d9d",
      "647e79a00a624b9b92ec1ad284ee751f",
      "a83c1789709645dbacda4b061f120890",
      "b90bcefa8cc14d6189773d5a9cac3a92",
      "ab3c7543521d4bac846963e1543ecf23",
      "03b7dde89a474f52b33d0fa130b383b2",
      "bd072271a2d84ad287131e9d34273ffd",
      "e3a645fb61f842fb9452d97def3e09d9",
      "34314a4ff8344cdb8bd38777f6c8b9c5"
     ]
    },
    "id": "327d472ec0525e33",
    "outputId": "a58a4f52-c048-4471-d08c-e99a05340bb7",
    "ExecuteTime": {
     "end_time": "2024-09-05T04:19:28.932887Z",
     "start_time": "2024-09-05T04:19:28.792812Z"
    }
   },
   "outputs": [
    {
     "name": "stdout",
     "output_type": "stream",
     "text": [
      "INFO: Dataset archive found in the root directory. Skipping download.\n",
      "INFO: Dataset archive found in the root directory. Skipping download.\n",
      "INFO: Dataset archive found in the root directory. Skipping download.\n",
      "INFO: Dataset loaded successfully. Number of samples - Train(9866), Valid(3430), Test(3347)\n"
     ]
    }
   ],
   "source": [
    "DATA_ROOT = path.join(\".\", \"data\")\n",
    "\n",
    "train_dataset = FoodImageDataset(root=DATA_ROOT, force_download=False, train=True, transform=resizer)\n",
    "valid_dataset = FoodImageDataset(root=DATA_ROOT, force_download=False, valid=True, transform=resizer)\n",
    "test_dataset = FoodImageDataset(root=DATA_ROOT, force_download=False, train=False, transform=resizer)\n",
    "\n",
    "print(f\"INFO: Dataset loaded successfully. Number of samples - Train({len(train_dataset)}), Valid({len(valid_dataset)}), Test({len(test_dataset)})\")"
   ]
  },
  {
   "cell_type": "markdown",
   "id": "c9d36251887c6b09",
   "metadata": {
    "id": "c9d36251887c6b09"
   },
   "source": [
    "## Data Augmentation"
   ]
  },
  {
   "cell_type": "code",
   "execution_count": 57,
   "id": "603bda25a97ae705",
   "metadata": {
    "id": "603bda25a97ae705",
    "ExecuteTime": {
     "end_time": "2024-09-05T04:19:29.069013Z",
     "start_time": "2024-09-05T04:19:29.066325Z"
    }
   },
   "outputs": [],
   "source": [
    "ROTATE_ANGLE = 20\n",
    "COLOR_TRANSFORM = 0.1"
   ]
  },
  {
   "cell_type": "code",
   "execution_count": 58,
   "id": "8f267238c9f6d1eb",
   "metadata": {
    "id": "8f267238c9f6d1eb",
    "ExecuteTime": {
     "end_time": "2024-09-05T04:19:29.159797Z",
     "start_time": "2024-09-05T04:19:29.152155Z"
    }
   },
   "outputs": [],
   "source": [
    "augmenter = transforms.Compose([\n",
    "    transforms.RandomHorizontalFlip(),\n",
    "    transforms.RandomRotation(ROTATE_ANGLE),\n",
    "    transforms.ColorJitter(\n",
    "        brightness=COLOR_TRANSFORM, contrast=COLOR_TRANSFORM,\n",
    "        saturation=COLOR_TRANSFORM, hue=COLOR_TRANSFORM\n",
    "    ),\n",
    "    transforms.RandomResizedCrop(IMG_SIZE, scale=(0.8, 1.0), ratio=(0.75, 1.333)),\n",
    "    resizer,\n",
    "    transforms.RandomErasing(p=0.5, scale=(0.02, 0.33), ratio=(0.3, 3.3), value='random') # 추가적인 모델 과적합 방지를 위한 Random Erasing\n",
    "    \n",
    "])"
   ]
  },
  {
   "cell_type": "code",
   "execution_count": 59,
   "id": "26fc96730ac45800",
   "metadata": {
    "colab": {
     "base_uri": "https://localhost:8080/"
    },
    "id": "26fc96730ac45800",
    "outputId": "acb062e0-8075-43da-c6dd-5c87201eb423",
    "ExecuteTime": {
     "end_time": "2024-09-05T04:19:29.502671Z",
     "start_time": "2024-09-05T04:19:29.484374Z"
    }
   },
   "outputs": [
    {
     "name": "stdout",
     "output_type": "stream",
     "text": [
      "INFO: Dataset archive found in the root directory. Skipping download.\n",
      "INFO: Train dataset has been overridden with augmented state. Number of samples - Train(9866)\n"
     ]
    }
   ],
   "source": [
    "train_dataset = FoodImageDataset(root=DATA_ROOT, force_download=False, train=True, transform=augmenter)\n",
    "\n",
    "print(f\"INFO: Train dataset has been overridden with augmented state. Number of samples - Train({len(train_dataset)})\")"
   ]
  },
  {
   "cell_type": "markdown",
   "id": "b50f6925761e5e63",
   "metadata": {
    "id": "b50f6925761e5e63"
   },
   "source": [
    "## DataLoader"
   ]
  },
  {
   "cell_type": "code",
   "outputs": [
    {
     "name": "stdout",
     "output_type": "stream",
     "text": [
      "INFO: BATCH_SIZE - 16\n"
     ]
    }
   ],
   "source": [
    "# GPU가 여러 개인 경우 배치 크기를 더 크게 설정\n",
    "if torch.cuda.device_count() > 1:\n",
    "    BATCH_SIZE = 32\n",
    "else:\n",
    "    BATCH_SIZE = 16\n",
    "\n",
    "print(\"INFO: BATCH_SIZE -\", BATCH_SIZE)"
   ],
   "metadata": {
    "collapsed": false,
    "ExecuteTime": {
     "end_time": "2024-09-05T04:19:30.112904Z",
     "start_time": "2024-09-05T04:19:30.109420Z"
    }
   },
   "id": "dabf73b5f38f175d",
   "execution_count": 60
  },
  {
   "cell_type": "markdown",
   "source": [
    "## CutMix: Regularization Strategy to Train Strong Classifiers with Localizable Features\n",
    "#### Clova AI Research, NAVER Corp. Clova AI Research, LINE Plus Corp. Yonsei University\n",
    "\n",
    "## \n",
    "## Cutmix와 Mixup의 도입\n",
    "\n",
    "<img src=\"./images/cutmix_mixup.png\" alt=\"설명\" width=\"1000\" height=\"700\"/>"
   ],
   "metadata": {
    "collapsed": false
   },
   "id": "e3b8912cc7d57c60"
  },
  {
   "cell_type": "code",
   "outputs": [],
   "source": [
    "# CutMix 함수 정의\n",
    "def cutmix(x, y, alpha=1.0):\n",
    "    indices = torch.randperm(x.size(0))\n",
    "    shuffled_x = x[indices]\n",
    "    shuffled_y = y[indices]\n",
    "\n",
    "    lam = np.clip(np.random.beta(alpha, alpha), 0.3, 0.7)\n",
    "\n",
    "    bbx1, bby1, bbx2, bby2 = rand_bbox(x.size(), lam)\n",
    "    x[:, :, bbx1:bbx2, bby1:bby2] = shuffled_x[:, :, bbx1:bbx2, bby1:bby2]\n",
    "\n",
    "    lam = 1 - ((bbx2 - bbx1) * (bby2 - bby1) / (x.size(-1) * x.size(-2)))\n",
    "\n",
    "    return x, y, shuffled_y, lam\n",
    "\n",
    "# 임의의 바운딩 박스 생성 함수\n",
    "def rand_bbox(size, lam):\n",
    "    W = size[2]\n",
    "    H = size[3]\n",
    "    cut_rat = np.sqrt(1. - lam)\n",
    "    cut_w = int(W * cut_rat)\n",
    "    cut_h = int(H * cut_rat)\n",
    "\n",
    "    cx = np.random.randint(W)\n",
    "    cy = np.random.randint(H)\n",
    "\n",
    "    bbx1 = np.clip(cx - cut_w // 2, 0, W)\n",
    "    bby1 = np.clip(cy - cut_h // 2, 0, H)\n",
    "    bbx2 = np.clip(cx + cut_w // 2, 0, W)\n",
    "    bby2 = np.clip(cy + cut_h // 2, 0, H)\n",
    "\n",
    "    return bbx1, bby1, bbx2, bby2"
   ],
   "metadata": {
    "ExecuteTime": {
     "end_time": "2024-09-05T04:19:31.215888Z",
     "start_time": "2024-09-05T04:19:31.212327Z"
    }
   },
   "id": "55d1e3f6e0d52ccc",
   "execution_count": 61
  },
  {
   "cell_type": "code",
   "outputs": [],
   "source": [
    "# Mixup 함수 정의\n",
    "def mixup(x, y, alpha=1.0):\n",
    "    lam = np.random.beta(alpha, alpha)\n",
    "\n",
    "    indices = torch.randperm(x.size(0))\n",
    "    shuffled_x = x[indices]\n",
    "    shuffled_y = y[indices]\n",
    "\n",
    "    mixed_x = lam * x + (1 - lam) * shuffled_x\n",
    "\n",
    "    y_a, y_b = y, shuffled_y\n",
    "\n",
    "    return mixed_x, y_a, y_b, lam"
   ],
   "metadata": {
    "collapsed": false,
    "ExecuteTime": {
     "end_time": "2024-09-05T04:19:32.166850Z",
     "start_time": "2024-09-05T04:19:32.163160Z"
    }
   },
   "id": "c7e47c0a162ba191",
   "execution_count": 62
  },
  {
   "cell_type": "markdown",
   "source": [
    "## WeightedRandomSampler\n",
    "\n",
    "##### 훈련 데이터의 클래스별 데이터 불균형을 해결하기 위해 각 클래스의 샘플 수를 계산하고, 멀티프로세싱을 활용하여 클래스별 가중치를 생성한 후, 이 가중치를 기반으로 WeightedRandomSampler를 사용하여 균형 잡힌 샘플링을 수행함."
   ],
   "metadata": {
    "collapsed": false
   },
   "id": "f2cb886e8100ef09"
  },
  {
   "cell_type": "code",
   "outputs": [
    {
     "data": {
      "text/plain": "<Figure size 1000x600 with 1 Axes>",
      "image/png": "[encoded data removed]"
     },
     "metadata": {},
     "output_type": "display_data"
    }
   ],
   "source": [
    "from collections import Counter\n",
    "\n",
    "class_counts = Counter(train_dataset.targets)\n",
    "\n",
    "class_names = train_dataset.classes\n",
    "\n",
    "class_distribution = {class_names[i]: count for i, count in class_counts.items()}\n",
    "\n",
    "# 분포 시각화\n",
    "plt.figure(figsize=(10, 6))\n",
    "plt.bar(class_distribution.keys(), class_distribution.values(), color='skyblue')\n",
    "plt.title('Class Distribution in Training Dataset')\n",
    "plt.xlabel('Classes')\n",
    "plt.ylabel('Number of Samples')\n",
    "plt.xticks(rotation=45)\n",
    "plt.tight_layout()\n",
    "\n",
    "plt.show()"
   ],
   "metadata": {
    "collapsed": false,
    "ExecuteTime": {
     "end_time": "2024-09-05T04:19:42.035097Z",
     "start_time": "2024-09-05T04:19:41.893988Z"
    }
   },
   "id": "64e62247e4803d06",
   "execution_count": 64
  },
  {
   "cell_type": "code",
   "outputs": [],
   "source": [
    "from torch.utils.data import WeightedRandomSampler\n",
    "\n",
    "# 클래스별 샘플 수를 계산하는 함수\n",
    "def count_class_samples(targets, num_classes):\n",
    "    class_counts = Counter(targets)\n",
    "    return [class_counts[i] for i in range(num_classes)]\n",
    "\n",
    "# 멀티프로세싱을 사용하여 샘플 가중치 계산\n",
    "def calculate_sample_weights(targets, num_classes):\n",
    "    from multiprocessing import Pool, cpu_count\n",
    "    with Pool(cpu_count()) as pool:\n",
    "        class_counts = pool.apply(count_class_samples, (targets, num_classes))\n",
    "\n",
    "    class_weights = 1. / torch.tensor(class_counts, dtype=torch.float)\n",
    "    sample_weights = [class_weights[label] for label in targets]\n",
    "    return sample_weights\n",
    "\n",
    "# 데이터셋에 대해 클래스별 샘플 수를 계산하고 가중치 생성\n",
    "targets = train_dataset.targets \n",
    "num_classes = len(set(targets))\n",
    "sample_weights = calculate_sample_weights(targets, num_classes)\n",
    "\n",
    "# WeightedRandomSampler 생성\n",
    "sampler = WeightedRandomSampler(sample_weights, num_samples=len(sample_weights), replacement=True)\n",
    "\n",
    "print(\"INFO: Sample weights and sampler created successfully.\")"
   ],
   "metadata": {},
   "id": "2aebd1586a0220",
   "execution_count": null
  },
  {
   "cell_type": "markdown",
   "source": [
    "## Custom DataLoader\n",
    "\n",
    "###### Custom DataLoader는 과도한 데이터 변형으로 인한 불안정성을 피하기 위해 배치 전체에 기본 증강, CutMix, MixUp을 서로 다른 비율로 적용하는 방식을 구현한다.\n",
    "\n",
    "###### CutMix와 MixUp 기법을 추가함으로써 데이터의 다양성을 높여 과적합을 방지하고, 일반화 성능을 향상시킬 수 있다.\n",
    "\n",
    "###### 특히, 기존 방식대로 기본 데이터 증강, CutMix, MixUp을 전체 배치에 동일하게 적용하는 대신, 각각을 서로 다른 비율로 적용하여 차별화를 두었다. 이를 통해 기본 증강 데이터로 이미지의 주요 특성을 유지하면서, CutMix와 MixUp을 통해 한층 더 변형된 데이터를 학습할 수 있도록 한다. 이로써 과적합 방지와 학습 안정성 사이에서 균형을 이룰 수 있다.\n",
    "\n",
    "###### 또한, 학습 초기에는 기본 증강 데이터의 비율을 50% 이상으로 설정해 안정적인 수렴을 도모하고, 학습 후반에는 CutMix와 MixUp의 정규화 효과를 극대화하여 추가적인 성능 향상을 도모할 수 있도록 설계하였다."
   ],
   "metadata": {
    "collapsed": false
   },
   "id": "23f0f4307c64e1b8"
  },
  {
   "cell_type": "code",
   "outputs": [],
   "source": [
    "class CustomDatasetLoader(DataLoader):\n",
    "    def __init__(self, *args, sampler=None, use_cutmix=False, use_mixup=False, alpha=1.0,\n",
    "                 base_augment_ratio=0.5, cutmix_ratio=0.25, mixup_ratio=0.25, **kwargs):\n",
    "        super().__init__(*args, sampler=sampler, **kwargs)\n",
    "        self.use_cutmix = use_cutmix\n",
    "        self.use_mixup = use_mixup\n",
    "        self.alpha = alpha\n",
    "\n",
    "        # 각 증강 비율을 지정\n",
    "        self.base_augment_ratio = base_augment_ratio\n",
    "        self.cutmix_ratio = cutmix_ratio\n",
    "        self.mixup_ratio = mixup_ratio\n",
    "\n",
    "        # 비율의 합이 1.0인지 확인 (오차 허용 범위는 1e-6)\n",
    "        assert abs(base_augment_ratio + cutmix_ratio + mixup_ratio - 1.0) < 1e-6, \\\n",
    "            \"base_augment_ratio, cutmix_ratio, mixup_ratio의 합은 1이어야 합니다.\"\n",
    "\n",
    "    def __iter__(self):\n",
    "        for batch in super().__iter__():\n",
    "            x, y = batch\n",
    "            batch_size = x.size(0)\n",
    "\n",
    "            # 배치에서 각 비율에 맞게 나누기\n",
    "            base_augment_size = int(self.base_augment_ratio * batch_size)\n",
    "            cutmix_size = int(self.cutmix_ratio * batch_size)\n",
    "            mixup_size = int(self.mixup_ratio * batch_size)\n",
    "\n",
    "            # 배치 사이즈와 비율로 인해 발생하는 나머지를 처리\n",
    "            remainder = batch_size - (base_augment_size + cutmix_size + mixup_size)\n",
    "\n",
    "            x_base = x[:base_augment_size]\n",
    "            y_base = y[:base_augment_size]\n",
    "\n",
    "            x_mixup, y_a_mixup, y_b_mixup, lam_mixup = x[base_augment_size:base_augment_size+mixup_size], \\\n",
    "                y[base_augment_size:base_augment_size+mixup_size], \\\n",
    "                y[base_augment_size:base_augment_size+mixup_size], 1.0\n",
    "            if self.use_mixup:\n",
    "                x_mixup, y_a_mixup, y_b_mixup, lam_mixup = mixup(x_mixup, y_a_mixup, self.alpha)\n",
    "\n",
    "            x_cutmix, y_a_cutmix, y_b_cutmix, lam_cutmix = x[base_augment_size+mixup_size:base_augment_size+mixup_size+cutmix_size], \\\n",
    "                y[base_augment_size+mixup_size:base_augment_size+mixup_size+cutmix_size], \\\n",
    "                y[base_augment_size+mixup_size:base_augment_size+mixup_size+cutmix_size], 1.0\n",
    "            if self.use_cutmix:\n",
    "                x_cutmix, y_a_cutmix, y_b_cutmix, lam_cutmix = cutmix(x_cutmix, y_a_cutmix, self.alpha)\n",
    "\n",
    "            # 나머지 처리를 기본 증강 데이터에 추가\n",
    "            if remainder > 0:\n",
    "                x_extra = x[-remainder:]\n",
    "                y_extra = y[-remainder:]\n",
    "                x_base = torch.cat((x_base, x_extra), dim=0)\n",
    "                y_base = torch.cat((y_base, y_extra), dim=0)\n",
    "\n",
    "            # 최종 배치 구성\n",
    "            x_final = torch.cat((x_base, x_mixup, x_cutmix), dim=0)\n",
    "            y_final = torch.cat((y_base, y_a_mixup, y_a_cutmix), dim=0)\n",
    "            y_final_b = torch.cat((y_base, y_b_mixup, y_b_cutmix), dim=0)\n",
    "\n",
    "            # 최종 배치를 반환, lam 값도 반환하여 사용자가 관리할 수 있게 함\n",
    "            yield x_final, y_final, y_final_b, lam_mixup, lam_cutmix"
   ],
   "metadata": {
    "collapsed": false
   },
   "id": "524b63d0dd6019ee"
  },
  {
   "cell_type": "code",
   "execution_count": null,
   "id": "a825512e6022f081",
   "metadata": {},
   "outputs": [],
   "source": [
    "# Multi-processing 설정\n",
    "MULTI_PROCESSING = True # 문제가 발생하면 False로 설정\n",
    "\n",
    "from platform import system\n",
    "if MULTI_PROCESSING and system() != \"Windows\": # 윈도우에선 멀티프로세싱을 지원하지 않음\n",
    "    import multiprocessing\n",
    "    cpu_cores = max(1, multiprocessing.cpu_count() // 4) # CPU 코어 수의 1/4만 사용\n",
    "    print(f\"INFO: Number of CPU cores - {cpu_cores}\")\n",
    "else:\n",
    "    cpu_cores = 0\n",
    "    print(\"INFO: Using DataLoader with minimum processing.\")"
   ]
  },
  {
   "cell_type": "code",
   "execution_count": null,
   "id": "ca2d3c1309fea1ff",
   "metadata": {},
   "outputs": [],
   "source": [
    "# CustomDatasetLoader 사용\n",
    "train_loader = CustomDatasetLoader(\n",
    "    train_dataset,\n",
    "    batch_size=BATCH_SIZE, # 배치 사이즈 설정\n",
    "    sampler=sampler,  # WeightedRandomSampler를 사용하여 불균형 데이터 처리\n",
    "    num_workers=cpu_cores, # 멀티프로세싱 사용\n",
    "    use_cutmix=True, # CutMix 사용\n",
    "    use_mixup=True, # MixUp 사용\n",
    "    alpha=1.0, # Mixup 및 CutMix의 알파 값\n",
    "    base_augment_ratio=0.5, # 기본 증강 비율\n",
    "    cutmix_ratio=0.25, # CutMix 비율\n",
    "    mixup_ratio=0.25 # MixUp 비율\n",
    ")\n",
    "valid_loader = DataLoader(valid_dataset, batch_size=BATCH_SIZE, shuffle=False, num_workers=cpu_cores)\n",
    "test_loader = DataLoader(test_dataset, batch_size=BATCH_SIZE, shuffle=False, num_workers=cpu_cores)"
   ]
  },
  {
   "cell_type": "code",
   "execution_count": null,
   "id": "5b5fa937ff6dfa91",
   "metadata": {},
   "outputs": [],
   "source": [
    "# 이미지 시각화\n",
    "def imshow(image_list, mean=IMG_NORM['mean'], std=IMG_NORM['std']):\n",
    "    np_image = image_list.numpy().transpose((1, 2, 0))\n",
    "    de_norm_image = np_image * std + mean\n",
    "    plt.figure(figsize=(10, 10))\n",
    "    plt.imshow(de_norm_image)\n",
    "    plt.axis('off')\n",
    "    plt.show()"
   ]
  },
  {
   "cell_type": "code",
   "execution_count": null,
   "id": "c50d137a2de54cf4",
   "metadata": {},
   "outputs": [],
   "source": [
    "# 데이터 로더에서 이미지를 가져옴\n",
    "data = next(iter(train_loader))\n",
    "\n",
    "# 데이터가 4개일 경우 (일반 배치)\n",
    "if len(data) == 4:\n",
    "    images, targets = data[:2]  # 일반 배치 처리 (이미지와 타겟)\n",
    "\n",
    "# 데이터가 5개일 경우 (MixUp 또는 CutMix 배치)\n",
    "elif len(data) == 5:\n",
    "    images, targets_a, targets_b, lam_mixup, lam_cutmix = data  # MixUp 또는 CutMix 처리"
   ]
  },
  {
   "cell_type": "code",
   "execution_count": null,
   "id": "9f3ae53fb9a59a22",
   "metadata": {},
   "outputs": [],
   "source": [
    "grid_images = torchvision.utils.make_grid(images, nrow=8, padding=20)\n",
    "imshow(grid_images)"
   ]
  },
  {
   "cell_type": "markdown",
   "id": "e8d5ea2a2af0c35d",
   "metadata": {
    "id": "e8d5ea2a2af0c35d"
   },
   "source": [
    "## Define Model\n",
    "\n",
    "##### 초기 시도 : ResNet50 모델 약 81%성능 달성\n",
    "\n",
    "##### 후기 시도 : ResNeXt50_32x4d 약 86% 성능 달성 -> ResNeXt101_32x8d 약 88% 성능 달성 -> ResNeXt101_32x8d + SEBlock : 약 90.5% 성능달성\n",
    "\n",
    "##### ResNeXt: ResNet에 병렬 경로를 추가해 성능을 개선한 모델, 카디널리티 개념을 도입하여 적은 파라미터로도 더 강력한 성능을 발휘.\n",
    "\n",
    "##### SEBlock: 기존 CNN은 채널 간의 상관관계를 충분히 고려하지 못하는 한계가 있음. SEBlock을 도입함으로써 각 채널이 얼마나 중요한지 동적으로 학습하여, 네트워크의 성능을 높임\n",
    "\n",
    "##### 이미지 크기가 512x512임을 고려하여, Self-attention보다 상대적으로 단순한 연산을 사용하는 SEBlock을 도입함으로써 메모리 사용량은 절약하면서도 모델의 성능을 향상시킬 수 있었음."
   ]
  },
  {
   "cell_type": "code",
   "outputs": [],
   "source": [
    "class SEBlock(nn.Module):\n",
    "    def __init__(self, in_channels, reduction=16):\n",
    "        super(SEBlock, self).__init__()\n",
    "        self.avg_pool = nn.AdaptiveAvgPool2d(1)\n",
    "        self.fc1 = nn.Conv2d(in_channels, in_channels // reduction, kernel_size=1)\n",
    "        self.relu = nn.ReLU()\n",
    "        self.fc2 = nn.Conv2d(in_channels // reduction, in_channels, kernel_size=1)\n",
    "        self.sigmoid = nn.Sigmoid()\n",
    "\n",
    "    def forward(self, x):\n",
    "        b, c, _, _ = x.size()\n",
    "        y = self.avg_pool(x)\n",
    "        y = self.fc1(y)\n",
    "        y = self.relu(y)\n",
    "        y = self.fc2(y)\n",
    "        y = self.sigmoid(y)\n",
    "        return x * y.expand_as(x)"
   ],
   "metadata": {
    "collapsed": false
   },
   "id": "264085bd9e93493a"
  },
  {
   "cell_type": "code",
   "execution_count": null,
   "id": "17e4705e-cced-4edb-b275-2365eaa33fcd",
   "metadata": {},
   "outputs": [],
   "source": [
    "class ResNeXtBottleneck(nn.Module):\n",
    "    expansion = 4\n",
    "\n",
    "    def __init__(self, in_planes, planes, stride=1, cardinality=32, base_width=4, reduction=16):\n",
    "        super(ResNeXtBottleneck, self).__init__()\n",
    "        width = int(planes * (base_width / 64.)) * cardinality\n",
    "        # 1x1 Conv\n",
    "        self.conv1 = nn.Conv2d(in_planes, width, kernel_size=1, bias=False)\n",
    "        self.bn1 = nn.BatchNorm2d(width)\n",
    "        # 3x3 Grouped Conv\n",
    "        self.conv2 = nn.Conv2d(width, width, kernel_size=3, stride=stride, padding=1, groups=cardinality, bias=False)\n",
    "        self.bn2 = nn.BatchNorm2d(width)\n",
    "        # 1x1 Conv\n",
    "        self.conv3 = nn.Conv2d(width, planes * self.expansion, kernel_size=1, bias=False)\n",
    "        self.bn3 = nn.BatchNorm2d(planes * self.expansion)\n",
    "\n",
    "        # SEBlock 추가\n",
    "        self.se = SEBlock(planes * self.expansion, reduction)\n",
    "\n",
    "        self.shortcut = nn.Sequential()\n",
    "        if stride != 1 or in_planes != planes * self.expansion:\n",
    "            self.shortcut = nn.Sequential(\n",
    "                nn.Conv2d(in_planes, planes * self.expansion, kernel_size=1, stride=stride, bias=False),\n",
    "                nn.BatchNorm2d(planes * self.expansion)\n",
    "            )\n",
    "\n",
    "    def forward(self, x):\n",
    "        out = nn.functional.relu(self.bn1(self.conv1(x)))\n",
    "        out = nn.functional.relu(self.bn2(self.conv2(out)))\n",
    "        out = self.bn3(self.conv3(out))\n",
    "        out = self.se(out)  # SEBlock 적용\n",
    "        out += self.shortcut(x)\n",
    "        out = nn.functional.relu(out)\n",
    "        return out"
   ]
  },
  {
   "cell_type": "code",
   "outputs": [],
   "source": [
    "class ResNeXt(nn.Module):\n",
    "    def __init__(self, block, num_blocks, num_classes=1000, cardinality=32, base_width=4):\n",
    "        super(ResNeXt, self).__init__()\n",
    "        self.in_planes = 64\n",
    "\n",
    "        self.conv1 = nn.Conv2d(3, 64, kernel_size=7, stride=2, padding=3, bias=False)\n",
    "        self.bn1 = nn.BatchNorm2d(64)\n",
    "        self.layer1 = self._make_layer(block, 64, num_blocks[0], stride=1, cardinality=cardinality, base_width=base_width)\n",
    "        self.layer2 = self._make_layer(block, 128, num_blocks[1], stride=2, cardinality=cardinality, base_width=base_width)\n",
    "        self.layer3 = self._make_layer(block, 256, num_blocks[2], stride=2, cardinality=cardinality, base_width=base_width)\n",
    "        self.layer4 = self._make_layer(block, 512, num_blocks[3], stride=2, cardinality=cardinality, base_width=base_width)\n",
    "        self.avgpool = nn.AdaptiveAvgPool2d((1, 1))\n",
    "        self.fc = nn.Linear(512 * block.expansion, num_classes)\n",
    "\n",
    "    def _make_layer(self, block, planes, num_blocks, stride, cardinality, base_width):\n",
    "        strides = [stride] + [1] * (num_blocks - 1)\n",
    "        layers = []\n",
    "        for stride in strides:\n",
    "            layers.append(block(self.in_planes, planes, stride, cardinality, base_width))\n",
    "            self.in_planes = planes * block.expansion\n",
    "        return nn.Sequential(*layers)\n",
    "\n",
    "    def forward(self, x):\n",
    "        x = nn.functional.relu(self.bn1(self.conv1(x)))\n",
    "        x = nn.functional.max_pool2d(x, kernel_size=3, stride=2, padding=1)\n",
    "        x = self.layer1(x)\n",
    "        x = self.layer2(x)\n",
    "        x = self.layer3(x)\n",
    "        x = self.layer4(x)\n",
    "        x = self.avgpool(x)\n",
    "        x = torch.flatten(x, 1)\n",
    "        x = self.fc(x)\n",
    "        return x"
   ],
   "metadata": {
    "collapsed": false
   },
   "id": "7681ff3370e93efe"
  },
  {
   "cell_type": "code",
   "outputs": [],
   "source": [
    "def ResNeXt50_32x4d(num_classes=1000):\n",
    "    return ResNeXt(ResNeXtBottleneck, [3, 4, 6, 3], num_classes=num_classes, cardinality=32, base_width=4)\n",
    "\n",
    "def ResNeXt101_32x8d(num_classes=1000):\n",
    "    return ResNeXt(ResNeXtBottleneck, [3, 4, 23, 3], num_classes=num_classes, cardinality=32, base_width=8)"
   ],
   "metadata": {
    "collapsed": false
   },
   "id": "482f770b60307025"
  },
  {
   "cell_type": "code",
   "execution_count": null,
   "id": "f3500011660e797",
   "metadata": {
    "colab": {
     "base_uri": "https://localhost:8080/"
    },
    "id": "f3500011660e797",
    "outputId": "8cafabe4-615a-4db7-ce2f-b5edc1d87f04"
   },
   "outputs": [],
   "source": [
    "# 모델 초기화\n",
    "model = ResNeXt101_32x8d()\n",
    "model_id = \"ResNeXt101_32x8d\"\n",
    "\n",
    "# 다중 GPU 설정 (DataParallel 사용)\n",
    "if torch.cuda.device_count() > 1:\n",
    "    model = nn.DataParallel(model)\n",
    "\n",
    "# 모델을 장치로 이동\n",
    "model.to(device)"
   ]
  },
  {
   "cell_type": "code",
   "execution_count": null,
   "id": "c8480f09a9c48a23",
   "metadata": {},
   "outputs": [],
   "source": [
    "LEARNING_RATE = 0.0003 # 학습률 설정\n",
    "WEIGHT_DECAY = 1e-5 # 가중치 감쇠, 과적합을 방지하기 위해 가중치에 페널티를 부여\n",
    "\n",
    "criterion = nn.CrossEntropyLoss() # CrossEntropyLoss를 손실함수로 사용\n",
    "optimizer = optim.AdamW(model.parameters(), lr=LEARNING_RATE, weight_decay=WEIGHT_DECAY)  # AdamW 옵티마이저 사용, L2 정규화(weight_decay) 적용\n",
    "lr_scheduler = optim.lr_scheduler.CosineAnnealingLR(optimizer, T_max=100) # 학습률 스케줄러, Cosine Annealing으로 학습률을 점진적으로 줄임 (T_max: 주기)"
   ]
  },
  {
   "cell_type": "markdown",
   "id": "2f914f6148a87ae7",
   "metadata": {
    "id": "2f914f6148a87ae7"
   },
   "source": [
    "## Training Loop"
   ]
  },
  {
   "cell_type": "code",
   "execution_count": null,
   "id": "673149c0759f08c5",
   "metadata": {},
   "outputs": [],
   "source": [
    "# 모델 저장 및 불러오는 함수 정의\n",
    "def save_checkpoint(epoch, model, optimizer, loss, PATH):\n",
    "    checkpoint = {\n",
    "        'epoch': epoch,\n",
    "        'model_state_dict': model.state_dict(),\n",
    "        'optimizer_state_dict': optimizer.state_dict(),\n",
    "        'loss': loss,\n",
    "    }\n",
    "    torch.save(checkpoint, PATH)\n",
    "    print(f\" Model saved.\")\n",
    "\n",
    "def load_checkpoint(PATH, model, optimizer):\n",
    "    if path.isfile(PATH):\n",
    "        checkpoint = torch.load(PATH)\n",
    "        model.load_state_dict(checkpoint['model_state_dict'])\n",
    "        optimizer.load_state_dict(checkpoint['optimizer_state_dict'])\n",
    "        start_epoch = checkpoint['epoch'] + 1\n",
    "        loss = checkpoint['loss']\n",
    "        print(f\"체크포인트 '{path.basename(PATH)}'에서 모델 로드 완료 (시작 에포크: {start_epoch})\")\n",
    "        return start_epoch, loss\n",
    "    else:\n",
    "        print(f\"체크포인트 '{path.basename(PATH)}'를 찾을 수 없습니다. 새로 훈련을 시작합니다.\")\n",
    "        return 0, None"
   ]
  },
  {
   "cell_type": "code",
   "execution_count": null,
   "id": "761d3361cc271917",
   "metadata": {
    "collapsed": false
   },
   "outputs": [],
   "source": [
    "from IPython.display import display\n",
    "import ipywidgets as widgets\n",
    "\n",
    "# 인터랙티브 손실 그래프 업데이트\n",
    "def create_plot():\n",
    "    train_losses = []\n",
    "    valid_losses = []\n",
    "\n",
    "    # 인터랙티브 모드 활성화\n",
    "    plt.ion()\n",
    "\n",
    "    # 손실 그래프 설정\n",
    "    fig, ax = plt.subplots(figsize=(6, 4))\n",
    "    train_line, = ax.plot(train_losses, label=\"Train Loss\")\n",
    "    valid_line, = ax.plot(valid_losses, label=\"Validation Loss\")\n",
    "    ax.set_xlabel(\"Epoch\")\n",
    "    ax.set_ylabel(\"Loss\")\n",
    "    ax.set_title(\"Cross Entropy Loss\")\n",
    "    ax.legend()\n",
    "\n",
    "    # 그래프 출력\n",
    "    plot = widgets.Output()\n",
    "    display(plot)\n",
    "\n",
    "    def update_plot(epoch, train_loss=None, valid_loss=None):\n",
    "        if train_loss is not None:\n",
    "            train_losses.append(train_loss)\n",
    "            train_line.set_ydata(train_losses)\n",
    "            train_line.set_xdata(range(1, len(train_losses) + 1))\n",
    "\n",
    "        if valid_loss is not None:\n",
    "            valid_losses.append(valid_loss)\n",
    "            valid_line.set_ydata(valid_losses)\n",
    "            valid_line.set_xdata(range(1, len(valid_losses) + 1))\n",
    "\n",
    "        ax.relim()\n",
    "        ax.autoscale_view()\n",
    "        with plot:\n",
    "            plot.clear_output(wait=True)\n",
    "            display(fig)\n",
    "\n",
    "    return update_plot"
   ]
  },
  {
   "cell_type": "code",
   "execution_count": null,
   "id": "8eacee85cfd692e6",
   "metadata": {},
   "outputs": [],
   "source": [
    "# 조기 종료(early stopping) 정의\n",
    "def early_stopping(val_loss, best_val_loss, patience_counter, patience, model, epoch, optimizer, checkpoint_path):\n",
    "\n",
    "    stop_training = False\n",
    "\n",
    "    if val_loss < best_val_loss:\n",
    "        best_val_loss = val_loss\n",
    "        patience_counter = 0\n",
    "        save_checkpoint(epoch, model, optimizer, val_loss, checkpoint_path)  # 최상의 모델 저장\n",
    "    else:\n",
    "        patience_counter += 1\n",
    "\n",
    "    if patience_counter >= patience:\n",
    "        stop_training = True\n",
    "\n",
    "    return best_val_loss, patience_counter, stop_training"
   ]
  },
  {
   "cell_type": "markdown",
   "source": [
    "## process_batch define\n",
    "\n",
    "###### CutMix와 MixUp과 같은 데이터 증강 기법이 적용된 다양한 배치 형태를 처리하는 역할\n",
    "###### 배치의 길이에 따라 적절히 데이터를 나누고, 각각의 증강 기법에 맞는 방식으로 손실(loss)을 계산\n",
    "###### 기본 배치(2개 요소)에서는 일반적인 손실 계산을, CutMix/MixUp이 적용된 배치(4개 또는 5개 요소)에서는 가중치가 적용된 손실 계산을 수행"
   ],
   "metadata": {
    "collapsed": false
   },
   "id": "868a2dcda7d444b4"
  },
  {
   "cell_type": "code",
   "execution_count": null,
   "id": "a46f1fe7f9b1c9d8",
   "metadata": {},
   "outputs": [],
   "source": [
    "def process_batch(batch, model, criterion, device):\n",
    "    if len(batch) == 4:  # CutMix 또는 MixUp이 적용된 경우\n",
    "        inputs, targets_a, targets_b, lam = batch\n",
    "        inputs, targets_a, targets_b = inputs.to(device), targets_a.to(device), targets_b.to(device)\n",
    "        outputs = model(inputs)\n",
    "        loss = lam * criterion(outputs, targets_a) + (1 - lam) * criterion(outputs, targets_b)\n",
    "    elif len(batch) == 5:  # CutMix와 MixUp 둘 다 적용된 경우\n",
    "        inputs, targets_a, targets_b, lam_mixup, lam_cutmix = batch\n",
    "        inputs, targets_a, targets_b = inputs.to(device), targets_a.to(device), targets_b.to(device)\n",
    "        outputs = model(inputs)\n",
    "        loss_mixup = lam_mixup * criterion(outputs, targets_a) + (1 - lam_mixup) * criterion(outputs, targets_b)\n",
    "        loss_cutmix = lam_cutmix * criterion(outputs, targets_a) + (1 - lam_cutmix) * criterion(outputs, targets_b)\n",
    "        loss = (loss_mixup + loss_cutmix) / 2\n",
    "    elif len(batch) == 2:  # CutMix 또는 MixUp이 적용되지 않은 경우\n",
    "        inputs, targets = batch\n",
    "        inputs, targets = inputs.to(device), targets.to(device)\n",
    "        outputs = model(inputs)\n",
    "        loss = criterion(outputs, targets)\n",
    "    else:\n",
    "        raise ValueError(f\"Unexpected number of elements in batch: {len(batch)}\")\n",
    "\n",
    "    return loss"
   ]
  },
  {
   "cell_type": "code",
   "execution_count": null,
   "id": "404da8de0b3cd382",
   "metadata": {
    "id": "404da8de0b3cd382"
   },
   "outputs": [],
   "source": [
    "# Epoch 수 설정\n",
    "num_epochs = 200"
   ]
  },
  {
   "cell_type": "code",
   "execution_count": null,
   "id": "8f4bced47577b916",
   "metadata": {
    "collapsed": false
   },
   "outputs": [],
   "source": [
    "# Mixed Precision Training을 위한 GradScaler 생성\n",
    "scaler = GradScaler()\n",
    "\n",
    "# Early Stopping 설정\n",
    "early_stopping_patience = 20  # 개선되지 않은 loss에 대해 기다릴 최대 epoch 수\n",
    "best_val_loss = np.inf\n",
    "patience_counter = 0\n",
    "\n",
    "# 해당 경로에 폴더가 없을 경우 폴더 생성\n",
    "makedirs('checkpoints', exist_ok=True)\n",
    "makedirs(path.join('checkpoints', 'early_stopping'), exist_ok=True)\n",
    "\n",
    "PATH = path.join('checkpoints', f\"{model_id}_checkpoint.pt.tar\") # 모델 체크포인트 저장 경로\n",
    "early_stopping_PATH = os.path.join('checkpoints', 'early_stopping', f\"{model_id}_checkpoint.pt.tar\") # 조기 종료 모델 저장 경로\n",
    "save_cycle = 5 # 모델 저장 주기 설정\n",
    "\n",
    "# 체크포인트 로드\n",
    "start_epoch, _ = load_checkpoint(PATH, model, optimizer)\n",
    "\n",
    "# 훈련 및 검증 루프 설정\n",
    "train_length, valid_length = map(len, (train_loader, valid_loader))\n",
    "\n",
    "# 전체 학습 과정의 진행 상황을 tqdm로 시각화\n",
    "epochs = tqdm(range(start_epoch, num_epochs), desc=\"Epochs\", position=0)\n",
    "training_bar = tqdm(total=train_length, desc=\"Training\", position=1, leave=True)\n",
    "validation_bar = tqdm(total=valid_length, desc=\"Validation\", position=2, leave=True)\n",
    "update = create_plot()  # 손실 그래프 생성 (실시간 업데이트)\n",
    "\n",
    "for epoch in epochs:\n",
    "    training_bar.reset(total=train_length)\n",
    "    validation_bar.reset(total=valid_length)\n",
    "\n",
    "    # 훈련\n",
    "    model.train()\n",
    "    running_train_loss = 0.0\n",
    "    for i, batch in enumerate(train_loader):\n",
    "        optimizer.zero_grad()\n",
    "\n",
    "        with torch.cuda.amp.autocast():  # AMP(혼합 정밀도) 사용 : 16비트와 32비트 부동소수점 연산을 혼합해 연산 속도와 메모리 효율을 향상\n",
    "            loss = process_batch(batch, model, criterion, device)\n",
    "\n",
    "        scaler.scale(loss).backward()\n",
    "        scaler.step(optimizer)\n",
    "        scaler.update()\n",
    "\n",
    "        running_train_loss += loss.item()\n",
    "        training_bar.update(1)\n",
    "        print(f\"\\rEpoch [{epoch+1}/{num_epochs}], Step [{i+1}/{train_length}], Loss: {loss.item():.6f}\", end=\"\")\n",
    "\n",
    "    avg_train_loss = running_train_loss / train_length\n",
    "\n",
    "    val_acc, val_loss = 0, 0\n",
    "\n",
    "    # 검증\n",
    "    model.eval()\n",
    "    with torch.no_grad():\n",
    "        for inputs, targets in valid_loader:\n",
    "            with torch.cuda.amp.autocast():\n",
    "                inputs, targets = inputs.to(device), targets.to(device)\n",
    "                outputs = model(inputs)\n",
    "\n",
    "                val_loss += criterion(outputs, targets).item() / valid_length\n",
    "                val_acc += (torch.max(outputs, 1)[1] == targets.data).sum().item()\n",
    "\n",
    "            validation_bar.update(1)\n",
    "\n",
    "    val_acc /= len(valid_dataset)\n",
    "    print(f\"\\rEpoch [{epoch+1:2}/{num_epochs}], Step [{train_length}/{train_length}], Loss: {loss.item():.6f}, Valid Acc: {val_acc:.6%}, Valid Loss: {val_loss:.6f}\", end=\"\\n\" if (epoch+1) % save_cycle == 0 or (epoch+1) == num_epochs else \"\")\n",
    "\n",
    "    # 평균 학습 손실 및 검증 손실로 그래프 업데이트\n",
    "    update(epoch + 1, train_loss=avg_train_loss, valid_loss=val_loss)\n",
    "\n",
    "    # 종기 종료 기준 확인\n",
    "    best_val_loss, patience_counter, stop_training = early_stopping(\n",
    "        val_loss, best_val_loss, patience_counter, early_stopping_patience, model, epoch, optimizer, early_stopping_PATH\n",
    "    )\n",
    "\n",
    "    if stop_training:\n",
    "        print(f\"Early stopping triggered at epoch {epoch+1}\")\n",
    "        break\n",
    "\n",
    "    # save_cycle마다 모델 저장\n",
    "    if (epoch + 1) % save_cycle == 0:\n",
    "        save_checkpoint(epoch, model, optimizer, loss.item(), PATH)\n",
    "\n",
    "print(\"Training Completed!\")"
   ]
  },
  {
   "cell_type": "markdown",
   "source": [
    "![Loss Plot](./images/loss_plot.png)"
   ],
   "metadata": {
    "collapsed": false
   },
   "id": "b93b6638120d4276"
  },
  {
   "cell_type": "code",
   "execution_count": null,
   "id": "8a33998508f5da6",
   "metadata": {
    "id": "8a33998508f5da6"
   },
   "outputs": [],
   "source": [
    "if not path.isdir(path.join(\".\", \"models\")):\n",
    "    mkdir(path.join(\".\", \"models\"))\n",
    "\n",
    "# 모델 저장\n",
    "save_path = path.join(\".\", \"models\", f\"{model_id}.pt\")\n",
    "torch.save(model.state_dict(), save_path)\n",
    "print(f\"Model saved to {save_path}\")"
   ]
  },
  {
   "cell_type": "markdown",
   "id": "7762d126105c4809",
   "metadata": {
    "id": "7762d126105c4809"
   },
   "source": [
    "# Model Evaluation"
   ]
  },
  {
   "cell_type": "code",
   "execution_count": null,
   "id": "435a4c75ebeb969d",
   "metadata": {
    "id": "435a4c75ebeb969d"
   },
   "outputs": [],
   "source": [
    "# 모델 로드\n",
    "model = ResNeXt101_32x8d()\n",
    "\n",
    "if torch.cuda.device_count() > 1:\n",
    "    model = torch.nn.DataParallel(model)\n",
    "model.load_state_dict(torch.load(path.join(\".\", \"models\", f\"{model_id}.pt\")))\n",
    "model.to(device)"
   ]
  },
  {
   "cell_type": "code",
   "execution_count": null,
   "id": "9faf5249a208f03a",
   "metadata": {
    "id": "9faf5249a208f03a"
   },
   "outputs": [],
   "source": [
    "results = dict(id=[], label=[])\n",
    "test_length = len(test_dataset)\n",
    "\n",
    "model.eval()\n",
    "with torch.no_grad():\n",
    "    for inputs, ids in tqdm(test_loader):\n",
    "        inputs = inputs.to(device)\n",
    "        outputs = model(inputs)\n",
    "        _, preds = torch.max(outputs, 1)\n",
    "        results['id'] += [test_dataset.classes[i] for i in ids]\n",
    "        results['label'] += [train_dataset.classes[i] for i in preds.cpu().detach().numpy().tolist()]"
   ]
  },
  {
   "cell_type": "code",
   "execution_count": null,
   "id": "c05d535d69419f6a",
   "metadata": {
    "id": "c05d535d69419f6a"
   },
   "outputs": [],
   "source": [
    "# 결과 저장\n",
    "results_df = pd.DataFrame(results)\n",
    "\n",
    "submission_dir = \"submissions\"\n",
    "if not path.isdir(submission_dir):\n",
    "    mkdir(submission_dir)\n",
    "\n",
    "submit_file_path = path.join(submission_dir, f\"{model_id}.csv\")\n",
    "results_df.to_csv(submit_file_path, index=False)\n",
    "print(\"File saved to\", submit_file_path)\n",
    "\n",
    "results_df.head()"
   ]
  },
  {
   "cell_type": "code",
   "execution_count": null,
   "id": "bf2f3bc076c71fcb",
   "metadata": {
    "is_executing": true
   },
   "outputs": [],
   "source": [
    "# 학습 종료 시 GPU 메모리 해제\n",
    "torch.cuda.empty_cache()\n",
    "\n",
    "# 현재 프로세스 PID를 가져와 종료\n",
    "pid = os.getpid()\n",
    "os.kill(pid, signal.SIGKILL)"
   ]
  }
 ],
 "metadata": {
  "accelerator": "GPU",
  "colab": {
   "gpuType": "T4",
   "provenance": []
  },
  "kernelspec": {
   "display_name": "Python 3 (ipykernel)",
   "language": "python",
   "name": "python3"
  },
  "language_info": {
   "codemirror_mode": {
    "name": "ipython",
    "version": 3
   },
   "file_extension": ".py",
   "mimetype": "text/x-python",
   "name": "python",
   "nbconvert_exporter": "python",
   "pygments_lexer": "ipython3",
   "version": "3.12.2"
  },
  "widgets": {
   "application/vnd.jupyter.widget-state+json": {
    "03b390eb0b6244a083079aeccfb95dd8": {
     "model_module": "@jupyter-widgets/controls",
     "model_module_version": "1.5.0",
     "model_name": "DescriptionStyleModel",
     "state": {
      "_model_module": "@jupyter-widgets/controls",
      "_model_module_version": "1.5.0",
      "_model_name": "DescriptionStyleModel",
      "_view_count": null,
      "_view_module": "@jupyter-widgets/base",
      "_view_module_version": "1.2.0",
      "_view_name": "StyleView",
      "description_width": ""
     }
    },
    "03b7dde89a474f52b33d0fa130b383b2": {
     "model_module": "@jupyter-widgets/base",
     "model_module_version": "1.2.0",
     "model_name": "LayoutModel",
     "state": {
      "_model_module": "@jupyter-widgets/base",
      "_model_module_version": "1.2.0",
      "_model_name": "LayoutModel",
      "_view_count": null,
      "_view_module": "@jupyter-widgets/base",
      "_view_module_version": "1.2.0",
      "_view_name": "LayoutView",
      "align_content": null,
      "align_items": null,
      "align_self": null,
      "border": null,
      "bottom": null,
      "display": null,
      "flex": null,
      "flex_flow": null,
      "grid_area": null,
      "grid_auto_columns": null,
      "grid_auto_flow": null,
      "grid_auto_rows": null,
      "grid_column": null,
      "grid_gap": null,
      "grid_row": null,
      "grid_template_areas": null,
      "grid_template_columns": null,
      "grid_template_rows": null,
      "height": null,
      "justify_content": null,
      "justify_items": null,
      "left": null,
      "margin": null,
      "max_height": null,
      "max_width": null,
      "min_height": null,
      "min_width": null,
      "object_fit": null,
      "object_position": null,
      "order": null,
      "overflow": null,
      "overflow_x": null,
      "overflow_y": null,
      "padding": null,
      "right": null,
      "top": null,
      "visibility": null,
      "width": null
     }
    },
    "0906951323e04b68b4cb16d5919bb09a": {
     "model_module": "@jupyter-widgets/controls",
     "model_module_version": "1.5.0",
     "model_name": "ProgressStyleModel",
     "state": {
      "_model_module": "@jupyter-widgets/controls",
      "_model_module_version": "1.5.0",
      "_model_name": "ProgressStyleModel",
      "_view_count": null,
      "_view_module": "@jupyter-widgets/base",
      "_view_module_version": "1.2.0",
      "_view_name": "StyleView",
      "bar_color": null,
      "description_width": ""
     }
    },
    "11067ecf8bb44882a20918b5fe7b6cee": {
     "model_module": "@jupyter-widgets/controls",
     "model_module_version": "1.5.0",
     "model_name": "FloatProgressModel",
     "state": {
      "_dom_classes": [],
      "_model_module": "@jupyter-widgets/controls",
      "_model_module_version": "1.5.0",
      "_model_name": "FloatProgressModel",
      "_view_count": null,
      "_view_module": "@jupyter-widgets/controls",
      "_view_module_version": "1.5.0",
      "_view_name": "ProgressView",
      "bar_style": "",
      "description": "",
      "description_tooltip": null,
      "layout": "IPY_MODEL_1e563825b345450793be85924b11b7fe",
      "max": 155,
      "min": 0,
      "orientation": "horizontal",
      "style": "IPY_MODEL_8b770a9c0b844dd4a4f0c0dcd4eb71c3",
      "value": 49
     }
    },
    "142f773b668c4dbe90fa9e33236aa46e": {
     "model_module": "@jupyter-widgets/controls",
     "model_module_version": "1.5.0",
     "model_name": "DescriptionStyleModel",
     "state": {
      "_model_module": "@jupyter-widgets/controls",
      "_model_module_version": "1.5.0",
      "_model_name": "DescriptionStyleModel",
      "_view_count": null,
      "_view_module": "@jupyter-widgets/base",
      "_view_module_version": "1.2.0",
      "_view_name": "StyleView",
      "description_width": ""
     }
    },
    "14c4943ae00c407082be5a4707a0038e": {
     "model_module": "@jupyter-widgets/base",
     "model_module_version": "1.2.0",
     "model_name": "LayoutModel",
     "state": {
      "_model_module": "@jupyter-widgets/base",
      "_model_module_version": "1.2.0",
      "_model_name": "LayoutModel",
      "_view_count": null,
      "_view_module": "@jupyter-widgets/base",
      "_view_module_version": "1.2.0",
      "_view_name": "LayoutView",
      "align_content": null,
      "align_items": null,
      "align_self": null,
      "border": null,
      "bottom": null,
      "display": null,
      "flex": null,
      "flex_flow": null,
      "grid_area": null,
      "grid_auto_columns": null,
      "grid_auto_flow": null,
      "grid_auto_rows": null,
      "grid_column": null,
      "grid_gap": null,
      "grid_row": null,
      "grid_template_areas": null,
      "grid_template_columns": null,
      "grid_template_rows": null,
      "height": null,
      "justify_content": null,
      "justify_items": null,
      "left": null,
      "margin": null,
      "max_height": null,
      "max_width": null,
      "min_height": null,
      "min_width": null,
      "object_fit": null,
      "object_position": null,
      "order": null,
      "overflow": null,
      "overflow_x": null,
      "overflow_y": null,
      "padding": null,
      "right": null,
      "top": null,
      "visibility": null,
      "width": null
     }
    },
    "1e563825b345450793be85924b11b7fe": {
     "model_module": "@jupyter-widgets/base",
     "model_module_version": "1.2.0",
     "model_name": "LayoutModel",
     "state": {
      "_model_module": "@jupyter-widgets/base",
      "_model_module_version": "1.2.0",
      "_model_name": "LayoutModel",
      "_view_count": null,
      "_view_module": "@jupyter-widgets/base",
      "_view_module_version": "1.2.0",
      "_view_name": "LayoutView",
      "align_content": null,
      "align_items": null,
      "align_self": null,
      "border": null,
      "bottom": null,
      "display": null,
      "flex": null,
      "flex_flow": null,
      "grid_area": null,
      "grid_auto_columns": null,
      "grid_auto_flow": null,
      "grid_auto_rows": null,
      "grid_column": null,
      "grid_gap": null,
      "grid_row": null,
      "grid_template_areas": null,
      "grid_template_columns": null,
      "grid_template_rows": null,
      "height": null,
      "justify_content": null,
      "justify_items": null,
      "left": null,
      "margin": null,
      "max_height": null,
      "max_width": null,
      "min_height": null,
      "min_width": null,
      "object_fit": null,
      "object_position": null,
      "order": null,
      "overflow": null,
      "overflow_x": null,
      "overflow_y": null,
      "padding": null,
      "right": null,
      "top": null,
      "visibility": null,
      "width": null
     }
    },
    "1f46692a6d2d4a31ba86456ac990bd08": {
     "model_module": "@jupyter-widgets/controls",
     "model_module_version": "1.5.0",
     "model_name": "HTMLModel",
     "state": {
      "_dom_classes": [],
      "_model_module": "@jupyter-widgets/controls",
      "_model_module_version": "1.5.0",
      "_model_name": "HTMLModel",
      "_view_count": null,
      "_view_module": "@jupyter-widgets/controls",
      "_view_module_version": "1.5.0",
      "_view_name": "HTMLView",
      "description": "",
      "description_tooltip": null,
      "layout": "IPY_MODEL_96b56e23950f451884e660f8e23a82cb",
      "placeholder": "​",
      "style": "IPY_MODEL_287803cb018c402987f64b265151c77a",
      "value": "Running Epochs:   0%"
     }
    },
    "27872979e8d7487b8e8c339e7938e9f9": {
     "model_module": "@jupyter-widgets/controls",
     "model_module_version": "1.5.0",
     "model_name": "DescriptionStyleModel",
     "state": {
      "_model_module": "@jupyter-widgets/controls",
      "_model_module_version": "1.5.0",
      "_model_name": "DescriptionStyleModel",
      "_view_count": null,
      "_view_module": "@jupyter-widgets/base",
      "_view_module_version": "1.2.0",
      "_view_name": "StyleView",
      "description_width": ""
     }
    },
    "287803cb018c402987f64b265151c77a": {
     "model_module": "@jupyter-widgets/controls",
     "model_module_version": "1.5.0",
     "model_name": "DescriptionStyleModel",
     "state": {
      "_model_module": "@jupyter-widgets/controls",
      "_model_module_version": "1.5.0",
      "_model_name": "DescriptionStyleModel",
      "_view_count": null,
      "_view_module": "@jupyter-widgets/base",
      "_view_module_version": "1.2.0",
      "_view_name": "StyleView",
      "description_width": ""
     }
    },
    "2ac622a388d44ed8ab55f221bb336d9d": {
     "model_module": "@jupyter-widgets/controls",
     "model_module_version": "1.5.0",
     "model_name": "FloatProgressModel",
     "state": {
      "_dom_classes": [],
      "_model_module": "@jupyter-widgets/controls",
      "_model_module_version": "1.5.0",
      "_model_name": "FloatProgressModel",
      "_view_count": null,
      "_view_module": "@jupyter-widgets/controls",
      "_view_module_version": "1.5.0",
      "_view_name": "ProgressView",
      "bar_style": "success",
      "description": "",
      "description_tooltip": null,
      "layout": "IPY_MODEL_03b7dde89a474f52b33d0fa130b383b2",
      "max": 1163477903,
      "min": 0,
      "orientation": "horizontal",
      "style": "IPY_MODEL_bd072271a2d84ad287131e9d34273ffd",
      "value": 1163477903
     }
    },
    "2dbec2be3d6a4b3c9c0cb862208f3f45": {
     "model_module": "@jupyter-widgets/base",
     "model_module_version": "1.2.0",
     "model_name": "LayoutModel",
     "state": {
      "_model_module": "@jupyter-widgets/base",
      "_model_module_version": "1.2.0",
      "_model_name": "LayoutModel",
      "_view_count": null,
      "_view_module": "@jupyter-widgets/base",
      "_view_module_version": "1.2.0",
      "_view_name": "LayoutView",
      "align_content": null,
      "align_items": null,
      "align_self": null,
      "border": null,
      "bottom": null,
      "display": null,
      "flex": null,
      "flex_flow": null,
      "grid_area": null,
      "grid_auto_columns": null,
      "grid_auto_flow": null,
      "grid_auto_rows": null,
      "grid_column": null,
      "grid_gap": null,
      "grid_row": null,
      "grid_template_areas": null,
      "grid_template_columns": null,
      "grid_template_rows": null,
      "height": null,
      "justify_content": null,
      "justify_items": null,
      "left": null,
      "margin": null,
      "max_height": null,
      "max_width": null,
      "min_height": null,
      "min_width": null,
      "object_fit": null,
      "object_position": null,
      "order": null,
      "overflow": null,
      "overflow_x": null,
      "overflow_y": null,
      "padding": null,
      "right": null,
      "top": null,
      "visibility": null,
      "width": null
     }
    },
    "313dc9147ba7457b9c45bbf851ff6936": {
     "model_module": "@jupyter-widgets/controls",
     "model_module_version": "1.5.0",
     "model_name": "HTMLModel",
     "state": {
      "_dom_classes": [],
      "_model_module": "@jupyter-widgets/controls",
      "_model_module_version": "1.5.0",
      "_model_name": "HTMLModel",
      "_view_count": null,
      "_view_module": "@jupyter-widgets/controls",
      "_view_module_version": "1.5.0",
      "_view_name": "HTMLView",
      "description": "",
      "description_tooltip": null,
      "layout": "IPY_MODEL_69ebd31008d94d0b8a54eb69a4eb98ec",
      "placeholder": "​",
      "style": "IPY_MODEL_03b390eb0b6244a083079aeccfb95dd8",
      "value": " 49/155 [02:01&lt;04:14,  2.40s/it]"
     }
    },
    "34314a4ff8344cdb8bd38777f6c8b9c5": {
     "model_module": "@jupyter-widgets/controls",
     "model_module_version": "1.5.0",
     "model_name": "DescriptionStyleModel",
     "state": {
      "_model_module": "@jupyter-widgets/controls",
      "_model_module_version": "1.5.0",
      "_model_name": "DescriptionStyleModel",
      "_view_count": null,
      "_view_module": "@jupyter-widgets/base",
      "_view_module_version": "1.2.0",
      "_view_name": "StyleView",
      "description_width": ""
     }
    },
    "38686b4398ef4d0cad9c6b946af045d3": {
     "model_module": "@jupyter-widgets/controls",
     "model_module_version": "1.5.0",
     "model_name": "DescriptionStyleModel",
     "state": {
      "_model_module": "@jupyter-widgets/controls",
      "_model_module_version": "1.5.0",
      "_model_name": "DescriptionStyleModel",
      "_view_count": null,
      "_view_module": "@jupyter-widgets/base",
      "_view_module_version": "1.2.0",
      "_view_name": "StyleView",
      "description_width": ""
     }
    },
    "63aee9a99eb24848a08e88c725058a5d": {
     "model_module": "@jupyter-widgets/controls",
     "model_module_version": "1.5.0",
     "model_name": "HBoxModel",
     "state": {
      "_dom_classes": [],
      "_model_module": "@jupyter-widgets/controls",
      "_model_module_version": "1.5.0",
      "_model_name": "HBoxModel",
      "_view_count": null,
      "_view_module": "@jupyter-widgets/controls",
      "_view_module_version": "1.5.0",
      "_view_name": "HBoxView",
      "box_style": "",
      "children": [
       "IPY_MODEL_e6c1bbd0f9f14f4ba0c6839da9135836",
       "IPY_MODEL_d15eedd0aa4344daaf96f61d41fc53f1",
       "IPY_MODEL_d870eb03f4ec40a784cdb3ee568738dd"
      ],
      "layout": "IPY_MODEL_65d55d14e7004e978655e8b64a6042de"
     }
    },
    "647e79a00a624b9b92ec1ad284ee751f": {
     "model_module": "@jupyter-widgets/controls",
     "model_module_version": "1.5.0",
     "model_name": "HTMLModel",
     "state": {
      "_dom_classes": [],
      "_model_module": "@jupyter-widgets/controls",
      "_model_module_version": "1.5.0",
      "_model_name": "HTMLModel",
      "_view_count": null,
      "_view_module": "@jupyter-widgets/controls",
      "_view_module_version": "1.5.0",
      "_view_name": "HTMLView",
      "description": "",
      "description_tooltip": null,
      "layout": "IPY_MODEL_e3a645fb61f842fb9452d97def3e09d9",
      "placeholder": "​",
      "style": "IPY_MODEL_34314a4ff8344cdb8bd38777f6c8b9c5",
      "value": " 1163477903/1163477903 [00:51&lt;00:00, 25113117.32it/s]"
     }
    },
    "65d55d14e7004e978655e8b64a6042de": {
     "model_module": "@jupyter-widgets/base",
     "model_module_version": "1.2.0",
     "model_name": "LayoutModel",
     "state": {
      "_model_module": "@jupyter-widgets/base",
      "_model_module_version": "1.2.0",
      "_model_name": "LayoutModel",
      "_view_count": null,
      "_view_module": "@jupyter-widgets/base",
      "_view_module_version": "1.2.0",
      "_view_name": "LayoutView",
      "align_content": null,
      "align_items": null,
      "align_self": null,
      "border": null,
      "bottom": null,
      "display": null,
      "flex": null,
      "flex_flow": null,
      "grid_area": null,
      "grid_auto_columns": null,
      "grid_auto_flow": null,
      "grid_auto_rows": null,
      "grid_column": null,
      "grid_gap": null,
      "grid_row": null,
      "grid_template_areas": null,
      "grid_template_columns": null,
      "grid_template_rows": null,
      "height": null,
      "justify_content": null,
      "justify_items": null,
      "left": null,
      "margin": null,
      "max_height": null,
      "max_width": null,
      "min_height": null,
      "min_width": null,
      "object_fit": null,
      "object_position": null,
      "order": null,
      "overflow": null,
      "overflow_x": null,
      "overflow_y": null,
      "padding": null,
      "right": null,
      "top": null,
      "visibility": null,
      "width": null
     }
    },
    "69ebd31008d94d0b8a54eb69a4eb98ec": {
     "model_module": "@jupyter-widgets/base",
     "model_module_version": "1.2.0",
     "model_name": "LayoutModel",
     "state": {
      "_model_module": "@jupyter-widgets/base",
      "_model_module_version": "1.2.0",
      "_model_name": "LayoutModel",
      "_view_count": null,
      "_view_module": "@jupyter-widgets/base",
      "_view_module_version": "1.2.0",
      "_view_name": "LayoutView",
      "align_content": null,
      "align_items": null,
      "align_self": null,
      "border": null,
      "bottom": null,
      "display": null,
      "flex": null,
      "flex_flow": null,
      "grid_area": null,
      "grid_auto_columns": null,
      "grid_auto_flow": null,
      "grid_auto_rows": null,
      "grid_column": null,
      "grid_gap": null,
      "grid_row": null,
      "grid_template_areas": null,
      "grid_template_columns": null,
      "grid_template_rows": null,
      "height": null,
      "justify_content": null,
      "justify_items": null,
      "left": null,
      "margin": null,
      "max_height": null,
      "max_width": null,
      "min_height": null,
      "min_width": null,
      "object_fit": null,
      "object_position": null,
      "order": null,
      "overflow": null,
      "overflow_x": null,
      "overflow_y": null,
      "padding": null,
      "right": null,
      "top": null,
      "visibility": null,
      "width": null
     }
    },
    "6e05f5cd6bf944beae88c7504167e104": {
     "model_module": "@jupyter-widgets/controls",
     "model_module_version": "1.5.0",
     "model_name": "HTMLModel",
     "state": {
      "_dom_classes": [],
      "_model_module": "@jupyter-widgets/controls",
      "_model_module_version": "1.5.0",
      "_model_name": "HTMLModel",
      "_view_count": null,
      "_view_module": "@jupyter-widgets/controls",
      "_view_module_version": "1.5.0",
      "_view_name": "HTMLView",
      "description": "",
      "description_tooltip": null,
      "layout": "IPY_MODEL_7da063e9e7cf40ecb6d166b24740edc8",
      "placeholder": "​",
      "style": "IPY_MODEL_ca05bceb9b1e4eeda5c35e80a3e751dc",
      "value": " 0/50 [00:00&lt;?, ?it/s]"
     }
    },
    "71a5da09404349308e49486e0d3c44a1": {
     "model_module": "@jupyter-widgets/controls",
     "model_module_version": "1.5.0",
     "model_name": "HBoxModel",
     "state": {
      "_dom_classes": [],
      "_model_module": "@jupyter-widgets/controls",
      "_model_module_version": "1.5.0",
      "_model_name": "HBoxModel",
      "_view_count": null,
      "_view_module": "@jupyter-widgets/controls",
      "_view_module_version": "1.5.0",
      "_view_name": "HBoxView",
      "box_style": "",
      "children": [
       "IPY_MODEL_1f46692a6d2d4a31ba86456ac990bd08",
       "IPY_MODEL_e9c1aee4998246fea0f3777bc4b6ca17",
       "IPY_MODEL_6e05f5cd6bf944beae88c7504167e104"
      ],
      "layout": "IPY_MODEL_b9493986d1ea4efba6233e97a1cac02e"
     }
    },
    "792b0a91ddef410c904da19d58422d2f": {
     "model_module": "@jupyter-widgets/base",
     "model_module_version": "1.2.0",
     "model_name": "LayoutModel",
     "state": {
      "_model_module": "@jupyter-widgets/base",
      "_model_module_version": "1.2.0",
      "_model_name": "LayoutModel",
      "_view_count": null,
      "_view_module": "@jupyter-widgets/base",
      "_view_module_version": "1.2.0",
      "_view_name": "LayoutView",
      "align_content": null,
      "align_items": null,
      "align_self": null,
      "border": null,
      "bottom": null,
      "display": null,
      "flex": null,
      "flex_flow": null,
      "grid_area": null,
      "grid_auto_columns": null,
      "grid_auto_flow": null,
      "grid_auto_rows": null,
      "grid_column": null,
      "grid_gap": null,
      "grid_row": null,
      "grid_template_areas": null,
      "grid_template_columns": null,
      "grid_template_rows": null,
      "height": null,
      "justify_content": null,
      "justify_items": null,
      "left": null,
      "margin": null,
      "max_height": null,
      "max_width": null,
      "min_height": null,
      "min_width": null,
      "object_fit": null,
      "object_position": null,
      "order": null,
      "overflow": null,
      "overflow_x": null,
      "overflow_y": null,
      "padding": null,
      "right": null,
      "top": null,
      "visibility": null,
      "width": null
     }
    },
    "7da063e9e7cf40ecb6d166b24740edc8": {
     "model_module": "@jupyter-widgets/base",
     "model_module_version": "1.2.0",
     "model_name": "LayoutModel",
     "state": {
      "_model_module": "@jupyter-widgets/base",
      "_model_module_version": "1.2.0",
      "_model_name": "LayoutModel",
      "_view_count": null,
      "_view_module": "@jupyter-widgets/base",
      "_view_module_version": "1.2.0",
      "_view_name": "LayoutView",
      "align_content": null,
      "align_items": null,
      "align_self": null,
      "border": null,
      "bottom": null,
      "display": null,
      "flex": null,
      "flex_flow": null,
      "grid_area": null,
      "grid_auto_columns": null,
      "grid_auto_flow": null,
      "grid_auto_rows": null,
      "grid_column": null,
      "grid_gap": null,
      "grid_row": null,
      "grid_template_areas": null,
      "grid_template_columns": null,
      "grid_template_rows": null,
      "height": null,
      "justify_content": null,
      "justify_items": null,
      "left": null,
      "margin": null,
      "max_height": null,
      "max_width": null,
      "min_height": null,
      "min_width": null,
      "object_fit": null,
      "object_position": null,
      "order": null,
      "overflow": null,
      "overflow_x": null,
      "overflow_y": null,
      "padding": null,
      "right": null,
      "top": null,
      "visibility": null,
      "width": null
     }
    },
    "8b770a9c0b844dd4a4f0c0dcd4eb71c3": {
     "model_module": "@jupyter-widgets/controls",
     "model_module_version": "1.5.0",
     "model_name": "ProgressStyleModel",
     "state": {
      "_model_module": "@jupyter-widgets/controls",
      "_model_module_version": "1.5.0",
      "_model_name": "ProgressStyleModel",
      "_view_count": null,
      "_view_module": "@jupyter-widgets/base",
      "_view_module_version": "1.2.0",
      "_view_name": "StyleView",
      "bar_color": null,
      "description_width": ""
     }
    },
    "96b56e23950f451884e660f8e23a82cb": {
     "model_module": "@jupyter-widgets/base",
     "model_module_version": "1.2.0",
     "model_name": "LayoutModel",
     "state": {
      "_model_module": "@jupyter-widgets/base",
      "_model_module_version": "1.2.0",
      "_model_name": "LayoutModel",
      "_view_count": null,
      "_view_module": "@jupyter-widgets/base",
      "_view_module_version": "1.2.0",
      "_view_name": "LayoutView",
      "align_content": null,
      "align_items": null,
      "align_self": null,
      "border": null,
      "bottom": null,
      "display": null,
      "flex": null,
      "flex_flow": null,
      "grid_area": null,
      "grid_auto_columns": null,
      "grid_auto_flow": null,
      "grid_auto_rows": null,
      "grid_column": null,
      "grid_gap": null,
      "grid_row": null,
      "grid_template_areas": null,
      "grid_template_columns": null,
      "grid_template_rows": null,
      "height": null,
      "justify_content": null,
      "justify_items": null,
      "left": null,
      "margin": null,
      "max_height": null,
      "max_width": null,
      "min_height": null,
      "min_width": null,
      "object_fit": null,
      "object_position": null,
      "order": null,
      "overflow": null,
      "overflow_x": null,
      "overflow_y": null,
      "padding": null,
      "right": null,
      "top": null,
      "visibility": null,
      "width": null
     }
    },
    "a83c1789709645dbacda4b061f120890": {
     "model_module": "@jupyter-widgets/base",
     "model_module_version": "1.2.0",
     "model_name": "LayoutModel",
     "state": {
      "_model_module": "@jupyter-widgets/base",
      "_model_module_version": "1.2.0",
      "_model_name": "LayoutModel",
      "_view_count": null,
      "_view_module": "@jupyter-widgets/base",
      "_view_module_version": "1.2.0",
      "_view_name": "LayoutView",
      "align_content": null,
      "align_items": null,
      "align_self": null,
      "border": null,
      "bottom": null,
      "display": null,
      "flex": null,
      "flex_flow": null,
      "grid_area": null,
      "grid_auto_columns": null,
      "grid_auto_flow": null,
      "grid_auto_rows": null,
      "grid_column": null,
      "grid_gap": null,
      "grid_row": null,
      "grid_template_areas": null,
      "grid_template_columns": null,
      "grid_template_rows": null,
      "height": null,
      "justify_content": null,
      "justify_items": null,
      "left": null,
      "margin": null,
      "max_height": null,
      "max_width": null,
      "min_height": null,
      "min_width": null,
      "object_fit": null,
      "object_position": null,
      "order": null,
      "overflow": null,
      "overflow_x": null,
      "overflow_y": null,
      "padding": null,
      "right": null,
      "top": null,
      "visibility": null,
      "width": null
     }
    },
    "a9d58710474949c0a1f12ad86b99018b": {
     "model_module": "@jupyter-widgets/controls",
     "model_module_version": "1.5.0",
     "model_name": "HBoxModel",
     "state": {
      "_dom_classes": [],
      "_model_module": "@jupyter-widgets/controls",
      "_model_module_version": "1.5.0",
      "_model_name": "HBoxModel",
      "_view_count": null,
      "_view_module": "@jupyter-widgets/controls",
      "_view_module_version": "1.5.0",
      "_view_name": "HBoxView",
      "box_style": "",
      "children": [
       "IPY_MODEL_d76bf07ee3494c2b90bf1b2755a4b6f4",
       "IPY_MODEL_2ac622a388d44ed8ab55f221bb336d9d",
       "IPY_MODEL_647e79a00a624b9b92ec1ad284ee751f"
      ],
      "layout": "IPY_MODEL_a83c1789709645dbacda4b061f120890"
     }
    },
    "ab09559a268a4a4fa46727f8e6949a6f": {
     "model_module": "@jupyter-widgets/controls",
     "model_module_version": "1.5.0",
     "model_name": "HBoxModel",
     "state": {
      "_dom_classes": [],
      "_model_module": "@jupyter-widgets/controls",
      "_model_module_version": "1.5.0",
      "_model_name": "HBoxModel",
      "_view_count": null,
      "_view_module": "@jupyter-widgets/controls",
      "_view_module_version": "1.5.0",
      "_view_name": "HBoxView",
      "box_style": "",
      "children": [
       "IPY_MODEL_b705b51b72a84133a256372853e7c9d6",
       "IPY_MODEL_11067ecf8bb44882a20918b5fe7b6cee",
       "IPY_MODEL_313dc9147ba7457b9c45bbf851ff6936"
      ],
      "layout": "IPY_MODEL_ec676cf28e6443068376792ed800735e"
     }
    },
    "ab3c7543521d4bac846963e1543ecf23": {
     "model_module": "@jupyter-widgets/controls",
     "model_module_version": "1.5.0",
     "model_name": "DescriptionStyleModel",
     "state": {
      "_model_module": "@jupyter-widgets/controls",
      "_model_module_version": "1.5.0",
      "_model_name": "DescriptionStyleModel",
      "_view_count": null,
      "_view_module": "@jupyter-widgets/base",
      "_view_module_version": "1.2.0",
      "_view_name": "StyleView",
      "description_width": ""
     }
    },
    "b705b51b72a84133a256372853e7c9d6": {
     "model_module": "@jupyter-widgets/controls",
     "model_module_version": "1.5.0",
     "model_name": "HTMLModel",
     "state": {
      "_dom_classes": [],
      "_model_module": "@jupyter-widgets/controls",
      "_model_module_version": "1.5.0",
      "_model_name": "HTMLModel",
      "_view_count": null,
      "_view_module": "@jupyter-widgets/controls",
      "_view_module_version": "1.5.0",
      "_view_name": "HTMLView",
      "description": "",
      "description_tooltip": null,
      "layout": "IPY_MODEL_792b0a91ddef410c904da19d58422d2f",
      "placeholder": "​",
      "style": "IPY_MODEL_27872979e8d7487b8e8c339e7938e9f9",
      "value": "Training:  32%"
     }
    },
    "b7ccc56b102e426a91326ad7419554c4": {
     "model_module": "@jupyter-widgets/controls",
     "model_module_version": "1.5.0",
     "model_name": "ProgressStyleModel",
     "state": {
      "_model_module": "@jupyter-widgets/controls",
      "_model_module_version": "1.5.0",
      "_model_name": "ProgressStyleModel",
      "_view_count": null,
      "_view_module": "@jupyter-widgets/base",
      "_view_module_version": "1.2.0",
      "_view_name": "StyleView",
      "bar_color": null,
      "description_width": ""
     }
    },
    "b90bcefa8cc14d6189773d5a9cac3a92": {
     "model_module": "@jupyter-widgets/base",
     "model_module_version": "1.2.0",
     "model_name": "LayoutModel",
     "state": {
      "_model_module": "@jupyter-widgets/base",
      "_model_module_version": "1.2.0",
      "_model_name": "LayoutModel",
      "_view_count": null,
      "_view_module": "@jupyter-widgets/base",
      "_view_module_version": "1.2.0",
      "_view_name": "LayoutView",
      "align_content": null,
      "align_items": null,
      "align_self": null,
      "border": null,
      "bottom": null,
      "display": null,
      "flex": null,
      "flex_flow": null,
      "grid_area": null,
      "grid_auto_columns": null,
      "grid_auto_flow": null,
      "grid_auto_rows": null,
      "grid_column": null,
      "grid_gap": null,
      "grid_row": null,
      "grid_template_areas": null,
      "grid_template_columns": null,
      "grid_template_rows": null,
      "height": null,
      "justify_content": null,
      "justify_items": null,
      "left": null,
      "margin": null,
      "max_height": null,
      "max_width": null,
      "min_height": null,
      "min_width": null,
      "object_fit": null,
      "object_position": null,
      "order": null,
      "overflow": null,
      "overflow_x": null,
      "overflow_y": null,
      "padding": null,
      "right": null,
      "top": null,
      "visibility": null,
      "width": null
     }
    },
    "b9493986d1ea4efba6233e97a1cac02e": {
     "model_module": "@jupyter-widgets/base",
     "model_module_version": "1.2.0",
     "model_name": "LayoutModel",
     "state": {
      "_model_module": "@jupyter-widgets/base",
      "_model_module_version": "1.2.0",
      "_model_name": "LayoutModel",
      "_view_count": null,
      "_view_module": "@jupyter-widgets/base",
      "_view_module_version": "1.2.0",
      "_view_name": "LayoutView",
      "align_content": null,
      "align_items": null,
      "align_self": null,
      "border": null,
      "bottom": null,
      "display": null,
      "flex": null,
      "flex_flow": null,
      "grid_area": null,
      "grid_auto_columns": null,
      "grid_auto_flow": null,
      "grid_auto_rows": null,
      "grid_column": null,
      "grid_gap": null,
      "grid_row": null,
      "grid_template_areas": null,
      "grid_template_columns": null,
      "grid_template_rows": null,
      "height": null,
      "justify_content": null,
      "justify_items": null,
      "left": null,
      "margin": null,
      "max_height": null,
      "max_width": null,
      "min_height": null,
      "min_width": null,
      "object_fit": null,
      "object_position": null,
      "order": null,
      "overflow": null,
      "overflow_x": null,
      "overflow_y": null,
      "padding": null,
      "right": null,
      "top": null,
      "visibility": null,
      "width": null
     }
    },
    "baeaf8e52539452a9336251c4534a776": {
     "model_module": "@jupyter-widgets/output",
     "model_module_version": "1.0.0",
     "model_name": "OutputModel",
     "state": {
      "_dom_classes": [],
      "_model_module": "@jupyter-widgets/output",
      "_model_module_version": "1.0.0",
      "_model_name": "OutputModel",
      "_view_count": null,
      "_view_module": "@jupyter-widgets/output",
      "_view_module_version": "1.0.0",
      "_view_name": "OutputView",
      "layout": "IPY_MODEL_14c4943ae00c407082be5a4707a0038e",
      "msg_id": "",
      "outputs": [
       {
        "data": {
         "image/png": "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\n",
         "text/plain": "<Figure size 600x200 with 1 Axes>"
        },
        "metadata": {},
        "output_type": "display_data"
       }
      ]
     }
    },
    "bd072271a2d84ad287131e9d34273ffd": {
     "model_module": "@jupyter-widgets/controls",
     "model_module_version": "1.5.0",
     "model_name": "ProgressStyleModel",
     "state": {
      "_model_module": "@jupyter-widgets/controls",
      "_model_module_version": "1.5.0",
      "_model_name": "ProgressStyleModel",
      "_view_count": null,
      "_view_module": "@jupyter-widgets/base",
      "_view_module_version": "1.2.0",
      "_view_name": "StyleView",
      "bar_color": null,
      "description_width": ""
     }
    },
    "ca05bceb9b1e4eeda5c35e80a3e751dc": {
     "model_module": "@jupyter-widgets/controls",
     "model_module_version": "1.5.0",
     "model_name": "DescriptionStyleModel",
     "state": {
      "_model_module": "@jupyter-widgets/controls",
      "_model_module_version": "1.5.0",
      "_model_name": "DescriptionStyleModel",
      "_view_count": null,
      "_view_module": "@jupyter-widgets/base",
      "_view_module_version": "1.2.0",
      "_view_name": "StyleView",
      "description_width": ""
     }
    },
    "cfb8877935ba4bf68e78f3698bfb0dd4": {
     "model_module": "@jupyter-widgets/base",
     "model_module_version": "1.2.0",
     "model_name": "LayoutModel",
     "state": {
      "_model_module": "@jupyter-widgets/base",
      "_model_module_version": "1.2.0",
      "_model_name": "LayoutModel",
      "_view_count": null,
      "_view_module": "@jupyter-widgets/base",
      "_view_module_version": "1.2.0",
      "_view_name": "LayoutView",
      "align_content": null,
      "align_items": null,
      "align_self": null,
      "border": null,
      "bottom": null,
      "display": null,
      "flex": null,
      "flex_flow": null,
      "grid_area": null,
      "grid_auto_columns": null,
      "grid_auto_flow": null,
      "grid_auto_rows": null,
      "grid_column": null,
      "grid_gap": null,
      "grid_row": null,
      "grid_template_areas": null,
      "grid_template_columns": null,
      "grid_template_rows": null,
      "height": null,
      "justify_content": null,
      "justify_items": null,
      "left": null,
      "margin": null,
      "max_height": null,
      "max_width": null,
      "min_height": null,
      "min_width": null,
      "object_fit": null,
      "object_position": null,
      "order": null,
      "overflow": null,
      "overflow_x": null,
      "overflow_y": null,
      "padding": null,
      "right": null,
      "top": null,
      "visibility": null,
      "width": null
     }
    },
    "d15eedd0aa4344daaf96f61d41fc53f1": {
     "model_module": "@jupyter-widgets/controls",
     "model_module_version": "1.5.0",
     "model_name": "FloatProgressModel",
     "state": {
      "_dom_classes": [],
      "_model_module": "@jupyter-widgets/controls",
      "_model_module_version": "1.5.0",
      "_model_name": "FloatProgressModel",
      "_view_count": null,
      "_view_module": "@jupyter-widgets/controls",
      "_view_module_version": "1.5.0",
      "_view_name": "ProgressView",
      "bar_style": "",
      "description": "",
      "description_tooltip": null,
      "layout": "IPY_MODEL_ed22567a05c7491e8966662a2966ae2e",
      "max": 54,
      "min": 0,
      "orientation": "horizontal",
      "style": "IPY_MODEL_0906951323e04b68b4cb16d5919bb09a",
      "value": 0
     }
    },
    "d612c6a77ac24391a621542b0d10c49b": {
     "model_module": "@jupyter-widgets/base",
     "model_module_version": "1.2.0",
     "model_name": "LayoutModel",
     "state": {
      "_model_module": "@jupyter-widgets/base",
      "_model_module_version": "1.2.0",
      "_model_name": "LayoutModel",
      "_view_count": null,
      "_view_module": "@jupyter-widgets/base",
      "_view_module_version": "1.2.0",
      "_view_name": "LayoutView",
      "align_content": null,
      "align_items": null,
      "align_self": null,
      "border": null,
      "bottom": null,
      "display": null,
      "flex": null,
      "flex_flow": null,
      "grid_area": null,
      "grid_auto_columns": null,
      "grid_auto_flow": null,
      "grid_auto_rows": null,
      "grid_column": null,
      "grid_gap": null,
      "grid_row": null,
      "grid_template_areas": null,
      "grid_template_columns": null,
      "grid_template_rows": null,
      "height": null,
      "justify_content": null,
      "justify_items": null,
      "left": null,
      "margin": null,
      "max_height": null,
      "max_width": null,
      "min_height": null,
      "min_width": null,
      "object_fit": null,
      "object_position": null,
      "order": null,
      "overflow": null,
      "overflow_x": null,
      "overflow_y": null,
      "padding": null,
      "right": null,
      "top": null,
      "visibility": null,
      "width": null
     }
    },
    "d76bf07ee3494c2b90bf1b2755a4b6f4": {
     "model_module": "@jupyter-widgets/controls",
     "model_module_version": "1.5.0",
     "model_name": "HTMLModel",
     "state": {
      "_dom_classes": [],
      "_model_module": "@jupyter-widgets/controls",
      "_model_module_version": "1.5.0",
      "_model_name": "HTMLModel",
      "_view_count": null,
      "_view_module": "@jupyter-widgets/controls",
      "_view_module_version": "1.5.0",
      "_view_name": "HTMLView",
      "description": "",
      "description_tooltip": null,
      "layout": "IPY_MODEL_b90bcefa8cc14d6189773d5a9cac3a92",
      "placeholder": "​",
      "style": "IPY_MODEL_ab3c7543521d4bac846963e1543ecf23",
      "value": "100%"
     }
    },
    "d870eb03f4ec40a784cdb3ee568738dd": {
     "model_module": "@jupyter-widgets/controls",
     "model_module_version": "1.5.0",
     "model_name": "HTMLModel",
     "state": {
      "_dom_classes": [],
      "_model_module": "@jupyter-widgets/controls",
      "_model_module_version": "1.5.0",
      "_model_name": "HTMLModel",
      "_view_count": null,
      "_view_module": "@jupyter-widgets/controls",
      "_view_module_version": "1.5.0",
      "_view_name": "HTMLView",
      "description": "",
      "description_tooltip": null,
      "layout": "IPY_MODEL_cfb8877935ba4bf68e78f3698bfb0dd4",
      "placeholder": "​",
      "style": "IPY_MODEL_142f773b668c4dbe90fa9e33236aa46e",
      "value": " 0/54 [00:00&lt;?, ?it/s]"
     }
    },
    "e3a645fb61f842fb9452d97def3e09d9": {
     "model_module": "@jupyter-widgets/base",
     "model_module_version": "1.2.0",
     "model_name": "LayoutModel",
     "state": {
      "_model_module": "@jupyter-widgets/base",
      "_model_module_version": "1.2.0",
      "_model_name": "LayoutModel",
      "_view_count": null,
      "_view_module": "@jupyter-widgets/base",
      "_view_module_version": "1.2.0",
      "_view_name": "LayoutView",
      "align_content": null,
      "align_items": null,
      "align_self": null,
      "border": null,
      "bottom": null,
      "display": null,
      "flex": null,
      "flex_flow": null,
      "grid_area": null,
      "grid_auto_columns": null,
      "grid_auto_flow": null,
      "grid_auto_rows": null,
      "grid_column": null,
      "grid_gap": null,
      "grid_row": null,
      "grid_template_areas": null,
      "grid_template_columns": null,
      "grid_template_rows": null,
      "height": null,
      "justify_content": null,
      "justify_items": null,
      "left": null,
      "margin": null,
      "max_height": null,
      "max_width": null,
      "min_height": null,
      "min_width": null,
      "object_fit": null,
      "object_position": null,
      "order": null,
      "overflow": null,
      "overflow_x": null,
      "overflow_y": null,
      "padding": null,
      "right": null,
      "top": null,
      "visibility": null,
      "width": null
     }
    },
    "e6c1bbd0f9f14f4ba0c6839da9135836": {
     "model_module": "@jupyter-widgets/controls",
     "model_module_version": "1.5.0",
     "model_name": "HTMLModel",
     "state": {
      "_dom_classes": [],
      "_model_module": "@jupyter-widgets/controls",
      "_model_module_version": "1.5.0",
      "_model_name": "HTMLModel",
      "_view_count": null,
      "_view_module": "@jupyter-widgets/controls",
      "_view_module_version": "1.5.0",
      "_view_name": "HTMLView",
      "description": "",
      "description_tooltip": null,
      "layout": "IPY_MODEL_2dbec2be3d6a4b3c9c0cb862208f3f45",
      "placeholder": "​",
      "style": "IPY_MODEL_38686b4398ef4d0cad9c6b946af045d3",
      "value": "Validation:   0%"
     }
    },
    "e9c1aee4998246fea0f3777bc4b6ca17": {
     "model_module": "@jupyter-widgets/controls",
     "model_module_version": "1.5.0",
     "model_name": "FloatProgressModel",
     "state": {
      "_dom_classes": [],
      "_model_module": "@jupyter-widgets/controls",
      "_model_module_version": "1.5.0",
      "_model_name": "FloatProgressModel",
      "_view_count": null,
      "_view_module": "@jupyter-widgets/controls",
      "_view_module_version": "1.5.0",
      "_view_name": "ProgressView",
      "bar_style": "",
      "description": "",
      "description_tooltip": null,
      "layout": "IPY_MODEL_d612c6a77ac24391a621542b0d10c49b",
      "max": 50,
      "min": 0,
      "orientation": "horizontal",
      "style": "IPY_MODEL_b7ccc56b102e426a91326ad7419554c4",
      "value": 0
     }
    },
    "ec676cf28e6443068376792ed800735e": {
     "model_module": "@jupyter-widgets/base",
     "model_module_version": "1.2.0",
     "model_name": "LayoutModel",
     "state": {
      "_model_module": "@jupyter-widgets/base",
      "_model_module_version": "1.2.0",
      "_model_name": "LayoutModel",
      "_view_count": null,
      "_view_module": "@jupyter-widgets/base",
      "_view_module_version": "1.2.0",
      "_view_name": "LayoutView",
      "align_content": null,
      "align_items": null,
      "align_self": null,
      "border": null,
      "bottom": null,
      "display": null,
      "flex": null,
      "flex_flow": null,
      "grid_area": null,
      "grid_auto_columns": null,
      "grid_auto_flow": null,
      "grid_auto_rows": null,
      "grid_column": null,
      "grid_gap": null,
      "grid_row": null,
      "grid_template_areas": null,
      "grid_template_columns": null,
      "grid_template_rows": null,
      "height": null,
      "justify_content": null,
      "justify_items": null,
      "left": null,
      "margin": null,
      "max_height": null,
      "max_width": null,
      "min_height": null,
      "min_width": null,
      "object_fit": null,
      "object_position": null,
      "order": null,
      "overflow": null,
      "overflow_x": null,
      "overflow_y": null,
      "padding": null,
      "right": null,
      "top": null,
      "visibility": null,
      "width": null
     }
    },
    "ed22567a05c7491e8966662a2966ae2e": {
     "model_module": "@jupyter-widgets/base",
     "model_module_version": "1.2.0",
     "model_name": "LayoutModel",
     "state": {
      "_model_module": "@jupyter-widgets/base",
      "_model_module_version": "1.2.0",
      "_model_name": "LayoutModel",
      "_view_count": null,
      "_view_module": "@jupyter-widgets/base",
      "_view_module_version": "1.2.0",
      "_view_name": "LayoutView",
      "align_content": null,
      "align_items": null,
      "align_self": null,
      "border": null,
      "bottom": null,
      "display": null,
      "flex": null,
      "flex_flow": null,
      "grid_area": null,
      "grid_auto_columns": null,
      "grid_auto_flow": null,
      "grid_auto_rows": null,
      "grid_column": null,
      "grid_gap": null,
      "grid_row": null,
      "grid_template_areas": null,
      "grid_template_columns": null,
      "grid_template_rows": null,
      "height": null,
      "justify_content": null,
      "justify_items": null,
      "left": null,
      "margin": null,
      "max_height": null,
      "max_width": null,
      "min_height": null,
      "min_width": null,
      "object_fit": null,
      "object_position": null,
      "order": null,
      "overflow": null,
      "overflow_x": null,
      "overflow_y": null,
      "padding": null,
      "right": null,
      "top": null,
      "visibility": null,
      "width": null
     }
    }
   }
  }
 },
 "nbformat": 4,
 "nbformat_minor": 5
}
